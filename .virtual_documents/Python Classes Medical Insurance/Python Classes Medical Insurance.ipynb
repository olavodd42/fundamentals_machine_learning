


















































type([])


import logging
from typing import Union, Dict

logging.basicConfig(level=logging.INFO, format='%(levelname)s: %(message)s')

class Patient:
    def __init__(self, *args: Union[str, int, float]):
        try:
            if len(args) == 1 and isinstance(args[0], list):
                patient_info = args[0]
                if len(patient_info) != 6:
                    raise ValueError("Invalid patient data: List must contain exactly 6 items.")
                self.name: str = patient_info[0]
                self.age: int = patient_info[1]
                self.sex: int = patient_info[2]
                self.bmi: float = patient_info[3]
                self.num_of_children: int = patient_info[4]
                self.smoker: int = patient_info[5]
            elif len(args) == 6:
                self.name: str = args[0]
                self.age: int = args[1]
                self.sex: int = args[2]
                self.bmi: float = args[3]
                self.num_of_children: int = args[4]
                self.smoker: int = args[5]
            else:
                raise ValueError("Invalid input. Provide either 6 arguments or a list of 6 items.")
        except Exception as e:
            logging.error(f"Initialization error: {e}")

    def estimated_insurance_cost(self) -> float:
        try:
            estimated_cost = (
                250 * self.age
                - 128 * self.sex
                + 370 * self.bmi
                + 425 * self.num_of_children
                + 24000 * self.smoker
                - 12500
            )
            logging.info(f"{self.name}'s estimated insurance costs is {estimated_cost:.2f} dollars.")
            return estimated_cost
        except Exception as e:
            logging.error(f"Error calculating insurance cost: {e}")
            return 0.0

    def update_age(self, new_age: int) -> None:
        try:
            if not isinstance(new_age, int):
                raise TypeError("Age must be an integer.")
            self.age = new_age
            logging.info(f"{self.name} is now {self.age} years old.")
            self.estimated_insurance_cost()
        except Exception as e:
            logging.error(f"Error updating age: {e}")

    def update_num_children(self, new_num_children: int) -> None:
        try:
            if not isinstance(new_num_children, int):
                raise TypeError("Number of children must be an integer.")
            self.num_of_children = new_num_children
            child_str = "child" if self.num_of_children == 1 else "children"
            logging.info(f"{self.name} has {self.num_of_children} {child_str}.")
            self.estimated_insurance_cost()
        except Exception as e:
            logging.error(f"Error updating number of children: {e}")

    def update_bmi(self, new_bmi: float) -> None:
        try:
            if not isinstance(new_bmi, (int, float)):
                raise TypeError("BMI must be a number.")
            self.bmi = float(new_bmi)
            logging.info(f"{self.name} has a BMI of {self.bmi:.2f}.")
            self.estimated_insurance_cost()
        except Exception as e:
            logging.error(f"Error updating BMI: {e}")

    def update_smoking_status(self, new_smoker: int) -> None:
        try:
            if new_smoker not in (0, 1):
                raise ValueError("Smoker must be 0 or 1.")
            self.smoker = new_smoker
            status = "is now smoker." if self.smoker else "now isn't a smoker."
            logging.info(f"{self.name} {status}")
            self.estimated_insurance_cost()
        except Exception as e:
            logging.error(f"Error updating smoking status: {e}")

    def patient_profile(self) -> Dict[str, Union[str, int, float, bool]]:
        try:
            profile = {
                "name": self.name,
                "age": self.age,
                "sex": "Female" if self.sex else "Male",
                "BMI": self.bmi,
                "number of children": self.num_of_children,
                "smoker": self.smoker == 1,
                "estimated insurance cost": f"${self.estimated_insurance_cost():.2f}",
            }
            return profile
        except Exception as e:
            logging.error(f"Error generating patient profile: {e}")
            return {}

    def __repr__(self) -> str:
        try:
            return (
                f"Patient: {self.name}\n"
                f"Age: {self.age}\n"
                f"Sex: {'Female' if self.sex else 'Male'}\n"
                f"BMI: {self.bmi:.2f}\n"
                f"Children: {self.num_of_children}\n"
                f"Smoker: {'Yes' if self.smoker else 'No'}\n"
                f"Estimated Cost: ${self.estimated_insurance_cost():.2f}"
            )
        except Exception as e:
            return f"Error displaying patient information: {e}"





# Example usage
if __name__ == "__main__":
    patient1 = Patient("John Doe", 25, 1, 22.2, 0, 0)

    print(f"Name: {patient1.name}")
    print(f"Age: {patient1.age}")
    print("Sex:", "Female" if patient1.sex == 1 else "Male")
    print(f"BMI: {patient1.bmi:.2f}")
    print(f"Number of children: {patient1.num_of_children}")
    print("Smoker" if patient1.smoker else "Not a smoker")


cost = patient1.estimated_insurance_cost()
patient1.update_age(26)
patient1.update_num_children(1)


patient1.update_bmi(24.3)
patient1.update_smoking_status(1)





print(patient1.patient_profile())


patient2 = Patient(['Olavo', 23, 0, 24.5, 0, 1])
patient2.patient_profile()


print(patient2)






