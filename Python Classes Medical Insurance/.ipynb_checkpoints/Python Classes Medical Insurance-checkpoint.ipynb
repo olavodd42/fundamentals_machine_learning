{
 "cells": [
  {
   "cell_type": "markdown",
   "id": "1a35e711",
   "metadata": {},
   "source": [
    "# Python Classes: Medical Insurance Project"
   ]
  },
  {
   "cell_type": "markdown",
   "id": "f99e0aa0",
   "metadata": {},
   "source": [
    "You have been asked to develop a system that makes it easier to organize patient data. You will create a `class` that does the following:\n",
    "- Takes in patient parameters regarding their personal information\n",
    "- Contains methods that allow users to update their information\n",
    "- Gives patients insight into their potential medical fees.\n",
    "\n",
    "Let's get started!"
   ]
  },
  {
   "cell_type": "markdown",
   "id": "1fa7e1c0",
   "metadata": {},
   "source": [
    "## Building our Constructor"
   ]
  },
  {
   "cell_type": "markdown",
   "id": "a575e31d",
   "metadata": {},
   "source": [
    "1. If you look at the code block below, you will see that we have started a `class` called `Patient`. It currently has an `__init__` method with two class variables: `self.name` and `self.age`.\n",
    "\n",
    "   Let's start by adding in some more patient parameters:\n",
    "   - `sex`: patient's biological identification, 0 for male and 1 for female\n",
    "   - `bmi`: patient BMI\n",
    "   - `num_of_children`: number of children patient has\n",
    "   - `smoker`: patient smoking status, 0 for a non-smoker and 1 for a smoker\n",
    "   \n",
    "   Add these into the `__init__` method so that we can use them as we create our class methods."
   ]
  },
  {
   "cell_type": "markdown",
   "id": "a2548fbe",
   "metadata": {},
   "source": [
    "3. Now that our constructor is built out and ready to go, let's start creating some methods! Our first method will be `estimated_insurance_cost()`, which takes our instance's parameters (representing our patient's information) and returns their expected yearly medical fees.\n",
    "\n",
    "   Below the `__init__` constructor, define our `estimated_insurance_cost()` constructor which only takes `self` as an argument. Inside of this method, add the following formula:\n",
    "   \n",
    "   $$\n",
    "   estimated\\_cost = 250*age - 128*sex + 370*bmi + 425*num\\_of\\_children + 24000*smoker - 12500\n",
    "   $$\n",
    "   \n",
    "   Note that we are using class variables in our formula here, so be sure to remember to use the `self` keyword."
   ]
  },
  {
   "cell_type": "markdown",
   "id": "88857f9c",
   "metadata": {},
   "source": [
    "4. Inside of our `estimated_insurance_cost()` method, let's add a print statement that displays the following:\n",
    "\n",
    "   ```\n",
    "   {Patient Name}'s estimated insurance costs is {estimated cost} dollars.\n",
    "   ```\n",
    "   \n",
    "   Then, test out this method using the `patient1` instance variable."
   ]
  },
  {
   "cell_type": "markdown",
   "id": "153c37a5",
   "metadata": {},
   "source": [
    "## Adding Functionality with Methods"
   ]
  },
  {
   "cell_type": "markdown",
   "id": "98623074",
   "metadata": {},
   "source": [
    "5. We already have one super useful method in our class! Let's add some more and make our `Patient` class even more powerful.\n",
    "\n",
    "   What if our patient recently had a birthday? Or had a fluctuation in weight? Or had a kid? Let's add some methods that allow us to update these parameters and recalculate the estimated medical fees in one swing.\n",
    "   \n",
    "   First, create an `update_age()` method. It should take in two arguments: `self` and `new_age`. In this method reassign `self.age` to `new_age`."
   ]
  },
  {
   "cell_type": "markdown",
   "id": "a371c179",
   "metadata": {},
   "source": [
    "6. Let's flesh out this method some more!\n",
    "\n",
    "   Add a print statement that outputs the following statement:\n",
    "   ```\n",
    "   {Patient Name} is now {Patient Age} years old.\n",
    "   ```\n",
    "   \n",
    "   Test out your method using the `patient1` instance variable."
   ]
  },
  {
   "cell_type": "markdown",
   "id": "e776b1b7",
   "metadata": {},
   "source": [
    "7. We also want to see what the new insurance expenses are. Call the `estimated_insurance_cost()` method in `update_age()` using this line of code:\n",
    "\n",
    "   ```py\n",
    "   self.estimated_insurance_cost()\n",
    "   ```\n",
    "   \n",
    "   Test out your method with `patient1`."
   ]
  },
  {
   "cell_type": "markdown",
   "id": "c941f315",
   "metadata": {},
   "source": [
    "8. Let's make another update method that modifies the `num_of_children` parameter.\n",
    "\n",
    "   Below the `update_age()` method, define a new one called `update_num_children()`. This method should have two arguments, `self` and `new_num_children`. Inside the method, `self.num_of_children` should be set equal to `new_num_children`."
   ]
  },
  {
   "cell_type": "markdown",
   "id": "0b11e91f",
   "metadata": {},
   "source": [
    "9. Similarly to the method we wrote before, let's add in a print statement that clarifies the information that is being updated.\n",
    "\n",
    "   Your print statement should output the following:\n",
    "   ```\n",
    "   {Patient Name} has {Patient's Number of Children} children.\n",
    "   ```\n",
    "   \n",
    "   Use the `patient1` instance variable to test out this method. Set the `new_num_children` argument to `1`. Do you notice anything strange in the output?"
   ]
  },
  {
   "cell_type": "markdown",
   "id": "d53b6275",
   "metadata": {},
   "source": [
    "10. You may have noticed our output is grammatically incorrect because John Doe only has `1` child. Let's update our method to accurately convey when we should use the noun \"children\" versus when we should use \"child\".\n",
    "\n",
    "    To do this we can use control flow.\n",
    "    \n",
    "    If the patient has `1` offspring, we should see the following output:\n",
    "    ```\n",
    "    {Patient Name} has {Patient Number of Children} child.\n",
    "    ```\n",
    "    \n",
    "    Otherwise, we should see this output:\n",
    "    ```\n",
    "    {Patient Name} has {Patient Number of Children} children.\n",
    "    ```\n",
    "    \n",
    "    Write out your control flow program, and test it out using `patient1`."
   ]
  },
  {
   "cell_type": "markdown",
   "id": "affe25af",
   "metadata": {},
   "source": [
    "11. To finish off the `update_num_children()` method, let's call our `estimated_insurance_cost()` method at the end.\n",
    "\n",
    "    Use `patient1` to ensure that everything is functioning as expected!"
   ]
  },
  {
   "cell_type": "markdown",
   "id": "8d03d380",
   "metadata": {},
   "source": [
    "## Storing Patient Information"
   ]
  },
  {
   "cell_type": "markdown",
   "id": "dd95a23f",
   "metadata": {},
   "source": [
    "12. Let's create one last method that uses a dictionary to store a patient's information in one convenient variable. We can use our parameters as the keys and their specific data as the values.\n",
    "\n",
    "    Define a method called `patient_profile()` that builds a dictionary called `patient_information` to hold all of our patient's information."
   ]
  },
  {
   "cell_type": "markdown",
   "id": "fdb2612f-3ce4-43bb-a3fd-6c6c32ec2605",
   "metadata": {},
   "source": [
    "## Extensions"
   ]
  },
  {
   "cell_type": "markdown",
   "id": "969f3f7c",
   "metadata": {},
   "source": [
    "14. Congratulations! You have successfully made a powerful `Patient` class! Classes are an incredibly useful programming tool because they allow you to create a blueprint that can be used to build many objects off of. In this case, you can organize any patient's information and apply all methods of `Patient` to update and arrange their data.\n",
    "\n",
    "    There are endless possibilities for extending the capabilities of this class. If you would like to continue to work on this `Patient` class, take a look at the following challenges:\n",
    "    - Build out more methods that allow users to update more patient parameters, such as `update_bmi()` or `update_smoking_status()`.\n",
    "    - Use `try` and `except` statements to ensure that patient data is uploaded using numerical values.\n",
    "    - Update the class so that users can upload lists of patient data rather than just individual numbers.\n",
    "    \n",
    "    Happy coding!"
   ]
  },
  {
   "cell_type": "code",
   "execution_count": 27,
   "id": "53467477-1ae0-444d-a15d-383906065833",
   "metadata": {},
   "outputs": [
    {
     "data": {
      "text/plain": [
       "list"
      ]
     },
     "execution_count": 27,
     "metadata": {},
     "output_type": "execute_result"
    }
   ],
   "source": [
    "type([])"
   ]
  },
  {
   "cell_type": "code",
   "execution_count": 55,
   "id": "271950a3",
   "metadata": {},
   "outputs": [],
   "source": [
    "import logging\n",
    "from typing import Union, Dict\n",
    "\n",
    "logging.basicConfig(level=logging.INFO, format='%(levelname)s: %(message)s')\n",
    "\n",
    "class Patient:\n",
    "    def __init__(self, *args: Union[str, int, float]):\n",
    "        try:\n",
    "            if len(args) == 1 and isinstance(args[0], list):\n",
    "                patient_info = args[0]\n",
    "                if len(patient_info) != 6:\n",
    "                    raise ValueError(\"Invalid patient data: List must contain exactly 6 items.\")\n",
    "                self.name: str = patient_info[0]\n",
    "                self.age: int = patient_info[1]\n",
    "                self.sex: int = patient_info[2]\n",
    "                self.bmi: float = patient_info[3]\n",
    "                self.num_of_children: int = patient_info[4]\n",
    "                self.smoker: int = patient_info[5]\n",
    "            elif len(args) == 6:\n",
    "                self.name: str = args[0]\n",
    "                self.age: int = args[1]\n",
    "                self.sex: int = args[2]\n",
    "                self.bmi: float = args[3]\n",
    "                self.num_of_children: int = args[4]\n",
    "                self.smoker: int = args[5]\n",
    "            else:\n",
    "                raise ValueError(\"Invalid input. Provide either 6 arguments or a list of 6 items.\")\n",
    "        except Exception as e:\n",
    "            logging.error(f\"Initialization error: {e}\")\n",
    "\n",
    "    def estimated_insurance_cost(self) -> float:\n",
    "        try:\n",
    "            estimated_cost = (\n",
    "                250 * self.age\n",
    "                - 128 * self.sex\n",
    "                + 370 * self.bmi\n",
    "                + 425 * self.num_of_children\n",
    "                + 24000 * self.smoker\n",
    "                - 12500\n",
    "            )\n",
    "            logging.info(f\"{self.name}'s estimated insurance costs is {estimated_cost:.2f} dollars.\")\n",
    "            return estimated_cost\n",
    "        except Exception as e:\n",
    "            logging.error(f\"Error calculating insurance cost: {e}\")\n",
    "            return 0.0\n",
    "\n",
    "    def update_age(self, new_age: int) -> None:\n",
    "        try:\n",
    "            if not isinstance(new_age, int):\n",
    "                raise TypeError(\"Age must be an integer.\")\n",
    "            self.age = new_age\n",
    "            logging.info(f\"{self.name} is now {self.age} years old.\")\n",
    "            self.estimated_insurance_cost()\n",
    "        except Exception as e:\n",
    "            logging.error(f\"Error updating age: {e}\")\n",
    "\n",
    "    def update_num_children(self, new_num_children: int) -> None:\n",
    "        try:\n",
    "            if not isinstance(new_num_children, int):\n",
    "                raise TypeError(\"Number of children must be an integer.\")\n",
    "            self.num_of_children = new_num_children\n",
    "            child_str = \"child\" if self.num_of_children == 1 else \"children\"\n",
    "            logging.info(f\"{self.name} has {self.num_of_children} {child_str}.\")\n",
    "            self.estimated_insurance_cost()\n",
    "        except Exception as e:\n",
    "            logging.error(f\"Error updating number of children: {e}\")\n",
    "\n",
    "    def update_bmi(self, new_bmi: float) -> None:\n",
    "        try:\n",
    "            if not isinstance(new_bmi, (int, float)):\n",
    "                raise TypeError(\"BMI must be a number.\")\n",
    "            self.bmi = float(new_bmi)\n",
    "            logging.info(f\"{self.name} has a BMI of {self.bmi:.2f}.\")\n",
    "            self.estimated_insurance_cost()\n",
    "        except Exception as e:\n",
    "            logging.error(f\"Error updating BMI: {e}\")\n",
    "\n",
    "    def update_smoking_status(self, new_smoker: int) -> None:\n",
    "        try:\n",
    "            if new_smoker not in (0, 1):\n",
    "                raise ValueError(\"Smoker must be 0 or 1.\")\n",
    "            self.smoker = new_smoker\n",
    "            status = \"is now smoker.\" if self.smoker else \"now isn't a smoker.\"\n",
    "            logging.info(f\"{self.name} {status}\")\n",
    "            self.estimated_insurance_cost()\n",
    "        except Exception as e:\n",
    "            logging.error(f\"Error updating smoking status: {e}\")\n",
    "\n",
    "    def patient_profile(self) -> Dict[str, Union[str, int, float, bool]]:\n",
    "        try:\n",
    "            profile = {\n",
    "                \"name\": self.name,\n",
    "                \"age\": self.age,\n",
    "                \"sex\": \"Female\" if self.sex else \"Male\",\n",
    "                \"BMI\": self.bmi,\n",
    "                \"number of children\": self.num_of_children,\n",
    "                \"smoker\": self.smoker == 1,\n",
    "                \"estimated insurance cost\": f\"${self.estimated_insurance_cost():.2f}\",\n",
    "            }\n",
    "            return profile\n",
    "        except Exception as e:\n",
    "            logging.error(f\"Error generating patient profile: {e}\")\n",
    "            return {}\n",
    "\n",
    "    def __repr__(self) -> str:\n",
    "        try:\n",
    "            return (\n",
    "                f\"Patient: {self.name}\\n\"\n",
    "                f\"Age: {self.age}\\n\"\n",
    "                f\"Sex: {'Female' if self.sex else 'Male'}\\n\"\n",
    "                f\"BMI: {self.bmi:.2f}\\n\"\n",
    "                f\"Children: {self.num_of_children}\\n\"\n",
    "                f\"Smoker: {'Yes' if self.smoker else 'No'}\\n\"\n",
    "                f\"Estimated Cost: ${self.estimated_insurance_cost():.2f}\"\n",
    "            )\n",
    "        except Exception as e:\n",
    "            return f\"Error displaying patient information: {e}\""
   ]
  },
  {
   "cell_type": "markdown",
   "id": "3cfdd84f",
   "metadata": {},
   "source": [
    "2. Let's test out our `__init__` method and create our first instance variable.\n",
    "\n",
    "   Create an instance variable outside of our class called `patient1`.\n",
    "   ```py\n",
    "   patient1 = Patient(\"John Doe\", 25, 1, 22.2, 0, 0)\n",
    "   ```\n",
    "   \n",
    "   Next, print out the name of `patient1` using the following line of code:\n",
    "   ```py\n",
    "   print(patient1.name)\n",
    "   ```\n",
    "   \n",
    "   Print out the rest of `patient1`'s information to ensure the `__init__` method is functioning properly."
   ]
  },
  {
   "cell_type": "code",
   "execution_count": 56,
   "id": "2d9efff6",
   "metadata": {},
   "outputs": [
    {
     "name": "stdout",
     "output_type": "stream",
     "text": [
      "Name: John Doe\n",
      "Age: 25\n",
      "Sex: Female\n",
      "BMI: 22.20\n",
      "Number of children: 0\n",
      "Not a smoker\n"
     ]
    }
   ],
   "source": [
    "# Example usage\n",
    "if __name__ == \"__main__\":\n",
    "    patient1 = Patient(\"John Doe\", 25, 1, 22.2, 0, 0)\n",
    "\n",
    "    print(f\"Name: {patient1.name}\")\n",
    "    print(f\"Age: {patient1.age}\")\n",
    "    print(\"Sex:\", \"Female\" if patient1.sex == 1 else \"Male\")\n",
    "    print(f\"BMI: {patient1.bmi:.2f}\")\n",
    "    print(f\"Number of children: {patient1.num_of_children}\")\n",
    "    print(\"Smoker\" if patient1.smoker else \"Not a smoker\")"
   ]
  },
  {
   "cell_type": "code",
   "execution_count": 57,
   "id": "a26df486",
   "metadata": {},
   "outputs": [
    {
     "name": "stderr",
     "output_type": "stream",
     "text": [
      "INFO: John Doe's estimated insurance costs is 1836.00 dollars.\n",
      "INFO: John Doe is now 26 years old.\n",
      "INFO: John Doe's estimated insurance costs is 2086.00 dollars.\n",
      "INFO: John Doe has 1 child.\n",
      "INFO: John Doe's estimated insurance costs is 2511.00 dollars.\n"
     ]
    }
   ],
   "source": [
    "cost = patient1.estimated_insurance_cost()\n",
    "patient1.update_age(26)\n",
    "patient1.update_num_children(1)"
   ]
  },
  {
   "cell_type": "code",
   "execution_count": 58,
   "id": "8969b15a-e886-4106-8063-57120c9073a5",
   "metadata": {},
   "outputs": [
    {
     "name": "stderr",
     "output_type": "stream",
     "text": [
      "INFO: John Doe has a BMI of 24.30.\n",
      "INFO: John Doe's estimated insurance costs is 3288.00 dollars.\n",
      "INFO: John Doe is now smoker.\n",
      "INFO: John Doe's estimated insurance costs is 27288.00 dollars.\n"
     ]
    }
   ],
   "source": [
    "patient1.update_bmi(24.3)\n",
    "patient1.update_smoking_status(1)"
   ]
  },
  {
   "cell_type": "markdown",
   "id": "a363090c",
   "metadata": {},
   "source": [
    "13. Let's test out our final method! Use `patient1` to call the method `patient_profile()`.\n",
    "\n",
    "    Remember that in `patient_profile()` we used a return statement rather than a print statement. In order to see our dictionary outputted, we must wrap a print statement around our method call."
   ]
  },
  {
   "cell_type": "code",
   "execution_count": 59,
   "id": "cedc7853",
   "metadata": {},
   "outputs": [
    {
     "name": "stderr",
     "output_type": "stream",
     "text": [
      "INFO: John Doe's estimated insurance costs is 27288.00 dollars.\n"
     ]
    },
    {
     "name": "stdout",
     "output_type": "stream",
     "text": [
      "{'name': 'John Doe', 'age': 26, 'sex': 'Female', 'BMI': 24.3, 'number of children': 1, 'smoker': True, 'estimated insurance cost': '$27288.00'}\n"
     ]
    }
   ],
   "source": [
    "print(patient1.patient_profile())"
   ]
  },
  {
   "cell_type": "code",
   "execution_count": 60,
   "id": "c3c2b36d-83a5-4801-9afd-edf14685b78b",
   "metadata": {},
   "outputs": [
    {
     "name": "stderr",
     "output_type": "stream",
     "text": [
      "INFO: Olavo's estimated insurance costs is 26315.00 dollars.\n"
     ]
    },
    {
     "data": {
      "text/plain": [
       "{'name': 'Olavo',\n",
       " 'age': 23,\n",
       " 'sex': 'Male',\n",
       " 'BMI': 24.5,\n",
       " 'number of children': 0,\n",
       " 'smoker': True,\n",
       " 'estimated insurance cost': '$26315.00'}"
      ]
     },
     "execution_count": 60,
     "metadata": {},
     "output_type": "execute_result"
    }
   ],
   "source": [
    "patient2 = Patient(['Olavo', 23, 0, 24.5, 0, 1])\n",
    "patient2.patient_profile()"
   ]
  },
  {
   "cell_type": "code",
   "execution_count": 61,
   "id": "bd61b6d8-01be-4254-8f92-7484f94388b5",
   "metadata": {},
   "outputs": [
    {
     "name": "stderr",
     "output_type": "stream",
     "text": [
      "INFO: Olavo's estimated insurance costs is 26315.00 dollars.\n"
     ]
    },
    {
     "name": "stdout",
     "output_type": "stream",
     "text": [
      "Patient: Olavo\n",
      "Age: 23\n",
      "Sex: Male\n",
      "BMI: 24.50\n",
      "Children: 0\n",
      "Smoker: Yes\n",
      "Estimated Cost: $26315.00\n"
     ]
    }
   ],
   "source": [
    "print(patient2)"
   ]
  },
  {
   "cell_type": "code",
   "execution_count": null,
   "id": "8368ddef",
   "metadata": {},
   "outputs": [],
   "source": []
  },
  {
   "cell_type": "code",
   "execution_count": null,
   "id": "38654822",
   "metadata": {},
   "outputs": [],
   "source": []
  }
 ],
 "metadata": {
  "kernelspec": {
   "display_name": "Python 3 (ipykernel)",
   "language": "python",
   "name": "python3"
  },
  "language_info": {
   "codemirror_mode": {
    "name": "ipython",
    "version": 3
   },
   "file_extension": ".py",
   "mimetype": "text/x-python",
   "name": "python",
   "nbconvert_exporter": "python",
   "pygments_lexer": "ipython3",
   "version": "3.12.2"
  }
 },
 "nbformat": 4,
 "nbformat_minor": 5
}
